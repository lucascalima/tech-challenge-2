{
 "cells": [
  {
   "cell_type": "code",
   "execution_count": null,
   "id": "6dd48c97",
   "metadata": {},
   "outputs": [],
   "source": [
    "from pyspark.sql.functions import col, sum, avg, to_date, countDistinct\n",
    "import matplotlib.pyplot as plt\n",
    "\n",
    "# Lê a tabela do Glue Catalog\n",
    "df = spark.table(\"default.b3_refined\")\n",
    "\n",
    "# Exemplo: Soma da Qtde. Teórica por ação\n",
    "df_agrupado = df.groupBy(\"codigo\").agg(sum(\"sum_qtd\").alias(\"total_qtd\"))\n",
    "df_top10 = df_agrupado.orderBy(col(\"total_qtd\").desc()).limit(10)\n",
    "\n",
    "# Converte para Pandas para plotar\n",
    "pd_top10 = df_top10.toPandas()\n",
    "\n",
    "# Plot com matplotlib\n",
    "plt.figure(figsize=(10,5))\n",
    "bars = plt.bar(pd_top10[\"codigo\"], pd_top10[\"total_qtd\"])\n",
    "\n",
    "# Adiciona rótulos de valor em cada barra\n",
    "for bar in bars:\n",
    "    height = bar.get_height()\n",
    "    plt.text(\n",
    "        bar.get_x() + bar.get_width() / 2,  \n",
    "        height,                             \n",
    "        f\"{height:,}\",                      \n",
    "        ha='center',                        \n",
    "        va='bottom',                        \n",
    "        fontsize=8\n",
    "    )\n",
    "\n",
    "plt.title(\"Top 10 ações por Qtde. Teórica\")\n",
    "plt.xlabel(\"Código\")\n",
    "plt.ylabel(\"Total Qtde. Teórica\")\n",
    "plt.xticks(rotation=45)\n",
    "plt.tight_layout()\n",
    "plt.show()\n",
    "%matplot plt\n"
   ]
  },
  {
   "cell_type": "code",
   "execution_count": null,
   "id": "0e3b370b",
   "metadata": {},
   "outputs": [],
   "source": [
    "from pyspark.sql.functions import col, countDistinct\n",
    "import matplotlib.pyplot as plt\n",
    "\n",
    "# 2. Evolução de ações por dia\n",
    "df = spark.table(\"default.b3_refined\")\n",
    "df_evol = df.groupBy(\"data_pregao\") \\\n",
    "    .agg(countDistinct(\"codigo\").alias(\"num_acoes\"))\n",
    "df_evol_pd = df_evol.orderBy(col(\"data_pregao\")).toPandas()\n",
    "\n",
    "plt.figure(figsize=(10,5))\n",
    "plt.plot(df_evol_pd[\"data_pregao\"], df_evol_pd[\"num_acoes\"], marker='o')\n",
    "\n",
    "# Adiciona rótulos de valor em cada ponto\n",
    "for x, y in zip(df_evol_pd[\"data_pregao\"], df_evol_pd[\"num_acoes\"]):\n",
    "    plt.text(x, y, str(y), ha='center', va='bottom', fontsize=8)\n",
    "\n",
    "plt.title(\"Evolução do número de ações por dia\")\n",
    "plt.xlabel(\"Data\")\n",
    "plt.ylabel(\"Número de ações\")\n",
    "plt.xticks(rotation=45)\n",
    "plt.tight_layout()\n",
    "plt.show()\n",
    "%matplot plt\n"
   ]
  }
 ],
 "metadata": {
  "language_info": {
   "name": "python"
  }
 },
 "nbformat": 4,
 "nbformat_minor": 5
}
